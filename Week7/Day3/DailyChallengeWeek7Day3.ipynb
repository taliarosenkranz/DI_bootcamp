{
  "nbformat": 4,
  "nbformat_minor": 0,
  "metadata": {
    "colab": {
      "provenance": []
    },
    "kernelspec": {
      "name": "python3",
      "display_name": "Python 3"
    },
    "language_info": {
      "name": "python"
    }
  },
  "cells": [
    {
      "cell_type": "code",
      "execution_count": null,
      "metadata": {
        "id": "cJrYcomhafPv"
      },
      "outputs": [],
      "source": [
        "import pandas as pd\n",
        "import seaborn as sns"
      ]
    },
    {
      "cell_type": "code",
      "source": [
        "! kaggle datasets download -d START-UMD/gtd"
      ],
      "metadata": {
        "id": "Ebp0Pgrbakmd"
      },
      "execution_count": null,
      "outputs": []
    },
    {
      "cell_type": "code",
      "source": [
        "! chmod 600 ~/.kaggle/kaggle.json"
      ],
      "metadata": {
        "id": "fFrspSF_djAM"
      },
      "execution_count": null,
      "outputs": []
    },
    {
      "cell_type": "code",
      "source": [
        "! unzip 'gtd.zip'"
      ],
      "metadata": {
        "id": "n43q5Gv9dpPf"
      },
      "execution_count": null,
      "outputs": []
    },
    {
      "cell_type": "code",
      "source": [
        "\n",
        "df_ = pd.read_csv(\"globalterrorismdb_0718dist.csv\", encoding='ISO-8859-1')\n",
        "df_.head()"
      ],
      "metadata": {
        "id": "NyUZrx-xc5ts"
      },
      "execution_count": null,
      "outputs": []
    },
    {
      "cell_type": "code",
      "source": [
        "df = df_.copy()"
      ],
      "metadata": {
        "id": "22q6KzJqguec"
      },
      "execution_count": null,
      "outputs": []
    },
    {
      "cell_type": "code",
      "source": [
        "df.head()"
      ],
      "metadata": {
        "id": "TYZjwbPDaty_"
      },
      "execution_count": null,
      "outputs": []
    },
    {
      "cell_type": "code",
      "source": [
        "df.info()"
      ],
      "metadata": {
        "id": "EYV9mjUTayN8"
      },
      "execution_count": null,
      "outputs": []
    },
    {
      "cell_type": "code",
      "source": [
        "df.isnull().sum().sort_values(ascending=False)"
      ],
      "metadata": {
        "id": "1pdQ3zd1a44e"
      },
      "execution_count": null,
      "outputs": []
    },
    {
      "cell_type": "code",
      "source": [
        "df.dropna(axis=1, how='all', inplace=True) #dropping columns where all values are null"
      ],
      "metadata": {
        "id": "yw1awaLKeds5"
      },
      "execution_count": null,
      "outputs": []
    },
    {
      "cell_type": "code",
      "source": [
        "missing_values = df.isnull().sum().sort_values(ascending=False)\n",
        "missing_values"
      ],
      "metadata": {
        "id": "lFzujYNjex8I"
      },
      "execution_count": null,
      "outputs": []
    },
    {
      "cell_type": "code",
      "source": [
        "# Calculate the percentage of missing values in each column\n",
        "total_rows = len(df)\n",
        "missing_percentages = (df.isnull().sum() / total_rows) * 100\n",
        "\n",
        "# Drop columns where missing values are more than 60%\n",
        "threshold_percent = 60\n",
        "\n",
        "columns_to_drop = missing_values[missing_values >= threshold_percent].index\n",
        "df.drop(columns=columns_to_drop, inplace=True)"
      ],
      "metadata": {
        "id": "C-DjjyF2ezmA"
      },
      "execution_count": null,
      "outputs": []
    },
    {
      "cell_type": "code",
      "source": [
        "df.isnull().sum().sort_values(ascending=False)"
      ],
      "metadata": {
        "id": "54cmm0tHfFpc"
      },
      "execution_count": null,
      "outputs": []
    },
    {
      "cell_type": "code",
      "source": [
        "df.specificity.value_counts()"
      ],
      "metadata": {
        "id": "Li0cdBshgC2g"
      },
      "execution_count": null,
      "outputs": []
    },
    {
      "cell_type": "code",
      "source": [
        "mode_specificity = df['specificity'].mode()[0]  # Mode might return multiple values, so we select the first one\n",
        "df['specificity'].fillna(mode_specificity, inplace=True)"
      ],
      "metadata": {
        "id": "uACg1GFYhtDK"
      },
      "execution_count": null,
      "outputs": []
    },
    {
      "cell_type": "code",
      "source": [
        "df.multiple.value_counts()"
      ],
      "metadata": {
        "id": "2qr9D97Ghyq_"
      },
      "execution_count": null,
      "outputs": []
    },
    {
      "cell_type": "code",
      "source": [
        "mode_multiple = df['multiple'].mode()[0]\n",
        "df['multiple'].fillna(mode_multiple, inplace=True)"
      ],
      "metadata": {
        "id": "dSkxmhxziJ2-"
      },
      "execution_count": null,
      "outputs": []
    },
    {
      "cell_type": "code",
      "source": [
        "mode_doubtterr= df['doubtterr'].mode()[0]\n",
        "df['doubtterr'].fillna(mode_doubtterr, inplace=True)"
      ],
      "metadata": {
        "id": "tP0Uc3MsiUdh"
      },
      "execution_count": null,
      "outputs": []
    },
    {
      "cell_type": "code",
      "source": [
        "df.isnull().sum().sort_values(ascending=False)"
      ],
      "metadata": {
        "id": "2QyNo9HEicYE"
      },
      "execution_count": null,
      "outputs": []
    },
    {
      "cell_type": "markdown",
      "source": [
        "Exploratory DA"
      ],
      "metadata": {
        "id": "ox0E3aDq53tY"
      }
    },
    {
      "cell_type": "code",
      "source": [
        "plt.figure(figsize=(15, 8))\n",
        "\n",
        "ax=sns.countplot(y=df['iyear'])\n",
        "ax.bar_label(ax.containers[0],label_type='edge')\n",
        "plt.ylabel('Year')\n",
        "plt.xlabel('Number of attacks')\n",
        "plt.title('Number Of Terrorist Activities Each Year')\n",
        "\n",
        "plt.show()"
      ],
      "metadata": {
        "id": "8ZCT65q_igNu"
      },
      "execution_count": null,
      "outputs": []
    },
    {
      "cell_type": "code",
      "source": [
        "\n",
        "\n",
        "# Filtering those attacks where there were no kills and the attack type is equal to 3\n",
        "no_murder_df = no_murder_df[no_murder_df['attacktype1']==3]\n",
        "\n",
        "#PLotting the target from these attacks\n",
        "fig, ax = plt.subplots(figsize=(8,8))\n",
        "explode = [0.1] * len(no_murder_df['targtype1'].value_counts())\n",
        "ax.pie(no_murder_df['targtype1'].value_counts(), labels=no_murder_df['targtype1'].value_counts().index, autopct='%1.1f%%', explode = explode)\n",
        "ax.set_title('Proportion of Target with Bombing Attacks')\n",
        "plt.show()\n",
        "\n"
      ],
      "metadata": {
        "id": "hAjxruQJ574w"
      },
      "execution_count": null,
      "outputs": []
    },
    {
      "cell_type": "code",
      "source": [
        "#sns.heatmap(numeric_df[['imonth','country','alternative','crit1','crit2','crit3','attacktype1','targtype1','targsubtype1','natlty1','nkill','claimed',]].corr(),annot=True)"
      ],
      "metadata": {
        "id": "8IVDsb6m6fvw"
      },
      "execution_count": null,
      "outputs": []
    }
  ]
}