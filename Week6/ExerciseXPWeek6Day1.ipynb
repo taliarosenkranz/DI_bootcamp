{
  "nbformat": 4,
  "nbformat_minor": 0,
  "metadata": {
    "colab": {
      "provenance": []
    },
    "kernelspec": {
      "name": "python3",
      "display_name": "Python 3"
    },
    "language_info": {
      "name": "python"
    }
  },
  "cells": [
    {
      "cell_type": "code",
      "source": [
        "import numpy as np"
      ],
      "metadata": {
        "id": "hUQfIi06iLH9"
      },
      "execution_count": 1,
      "outputs": []
    },
    {
      "cell_type": "code",
      "execution_count": 2,
      "metadata": {
        "id": "nVaYNCG6hftG"
      },
      "outputs": [],
      "source": [
        "#Create a 1D NumPy array containing numbers from 0 to 9.\n",
        "array = np.array([range(0,10)])"
      ]
    },
    {
      "cell_type": "code",
      "source": [
        "array"
      ],
      "metadata": {
        "colab": {
          "base_uri": "https://localhost:8080/"
        },
        "id": "5HxV-Hj_iYYc",
        "outputId": "13a83f2e-95a6-42ec-8714-38dfc68d954c"
      },
      "execution_count": 3,
      "outputs": [
        {
          "output_type": "execute_result",
          "data": {
            "text/plain": [
              "array([[0, 1, 2, 3, 4, 5, 6, 7, 8, 9]])"
            ]
          },
          "metadata": {},
          "execution_count": 3
        }
      ]
    },
    {
      "cell_type": "code",
      "source": [
        "#Convert a list [3.14, 2.17, 0, 1, 2] into a NumPy array and convert its data type to integer.\n",
        "array =np.array([3.14, 2.17, 0, 1, 2])"
      ],
      "metadata": {
        "id": "OTbY1JxjiZWS"
      },
      "execution_count": 9,
      "outputs": []
    },
    {
      "cell_type": "code",
      "source": [
        "array = array.astype(int)\n",
        "array"
      ],
      "metadata": {
        "colab": {
          "base_uri": "https://localhost:8080/"
        },
        "id": "otA-3amyJlPe",
        "outputId": "e9c4205a-0deb-42c7-d7ff-8bf772e29c70"
      },
      "execution_count": 11,
      "outputs": [
        {
          "output_type": "execute_result",
          "data": {
            "text/plain": [
              "array([3, 2, 0, 1, 2])"
            ]
          },
          "metadata": {},
          "execution_count": 11
        }
      ]
    },
    {
      "cell_type": "code",
      "source": [
        "#Create a 3x3 NumPy array with values ranging from 1 to 9.\n",
        "arraynd = np.array([[1,2,3],[4,5,6],[7,8,9]])\n",
        "arraynd"
      ],
      "metadata": {
        "colab": {
          "base_uri": "https://localhost:8080/"
        },
        "id": "3P8m8UhPJmCa",
        "outputId": "3b81c96c-718e-42e3-8537-41950c5594b3"
      },
      "execution_count": 13,
      "outputs": [
        {
          "output_type": "execute_result",
          "data": {
            "text/plain": [
              "array([[1, 2, 3],\n",
              "       [4, 5, 6],\n",
              "       [7, 8, 9]])"
            ]
          },
          "metadata": {},
          "execution_count": 13
        }
      ]
    },
    {
      "cell_type": "code",
      "source": [
        "#Create a 2D NumPy array of shape (4, 5) filled with random numbers.\n",
        "array = np.random.rand(4, 5)\n",
        "array"
      ],
      "metadata": {
        "colab": {
          "base_uri": "https://localhost:8080/"
        },
        "id": "99bhi2PJLlXD",
        "outputId": "98c939af-78d0-4818-cbf0-6199e38bd423"
      },
      "execution_count": 20,
      "outputs": [
        {
          "output_type": "execute_result",
          "data": {
            "text/plain": [
              "array([[0.2940779 , 0.67855705, 0.47630918, 0.11689017, 0.61341779],\n",
              "       [0.76652782, 0.80122814, 0.30144234, 0.49007345, 0.26975904],\n",
              "       [0.1612404 , 0.00324754, 0.6080537 , 0.4780059 , 0.24648001],\n",
              "       [0.69786444, 0.11627103, 0.41998176, 0.00434215, 0.99176953]])"
            ]
          },
          "metadata": {},
          "execution_count": 20
        }
      ]
    },
    {
      "cell_type": "code",
      "source": [
        "array[1]"
      ],
      "metadata": {
        "colab": {
          "base_uri": "https://localhost:8080/"
        },
        "id": "h-Pw5JszOjEE",
        "outputId": "3d54451e-c1ea-4b75-b9ac-c3e9c5ce48ea"
      },
      "execution_count": 21,
      "outputs": [
        {
          "output_type": "execute_result",
          "data": {
            "text/plain": [
              "array([0.76652782, 0.80122814, 0.30144234, 0.49007345, 0.26975904])"
            ]
          },
          "metadata": {},
          "execution_count": 21
        }
      ]
    },
    {
      "cell_type": "code",
      "source": [
        "#Reverse the order of elements in a given 1D NumPy array (first element becomes last)\n",
        "original_array = np.array([0,1, 2, 3, 4, 5,6,7,8,9])\n",
        "\n",
        "reversed_array = original_array[::-1]\n",
        "reversed_array\n"
      ],
      "metadata": {
        "colab": {
          "base_uri": "https://localhost:8080/"
        },
        "id": "h0VlB-q0PNmE",
        "outputId": "3d104231-dbc9-4366-a40a-1801d3f20f8a"
      },
      "execution_count": 28,
      "outputs": [
        {
          "output_type": "execute_result",
          "data": {
            "text/plain": [
              "array([9, 8, 7, 6, 5, 4, 3, 2, 1, 0])"
            ]
          },
          "metadata": {},
          "execution_count": 28
        }
      ]
    },
    {
      "cell_type": "code",
      "source": [
        "#Create a 4x4 identity matrix using NumPy.\n",
        "identity_matrix = np.eye(4)\n",
        "identity_matrix"
      ],
      "metadata": {
        "colab": {
          "base_uri": "https://localhost:8080/"
        },
        "id": "rDmsMtOBPUuJ",
        "outputId": "441e6550-135c-473c-85f9-969d8a69a7f0"
      },
      "execution_count": 29,
      "outputs": [
        {
          "output_type": "execute_result",
          "data": {
            "text/plain": [
              "array([[1., 0., 0., 0.],\n",
              "       [0., 1., 0., 0.],\n",
              "       [0., 0., 1., 0.],\n",
              "       [0., 0., 0., 1.]])"
            ]
          },
          "metadata": {},
          "execution_count": 29
        }
      ]
    },
    {
      "cell_type": "code",
      "source": [
        "#Find the sum and average of a given 1D array\n",
        "array = np.random.rand(4, 5)\n",
        "print(array)\n",
        "sum = np.sum(array)\n",
        "avg = np.mean(array)\n",
        "print(\"sum:\", sum)\n",
        "print(\"avg:\", avg)"
      ],
      "metadata": {
        "colab": {
          "base_uri": "https://localhost:8080/"
        },
        "id": "4i3mo0UjRudA",
        "outputId": "0fa24dc5-693a-444c-d2f5-9c4a2dca4f4a"
      },
      "execution_count": 33,
      "outputs": [
        {
          "output_type": "stream",
          "name": "stdout",
          "text": [
            "[[0.6346496  0.04506353 0.38809981 0.52808594 0.87149772]\n",
            " [0.80996219 0.82280439 0.84606042 0.66506066 0.21110122]\n",
            " [0.81173714 0.07787242 0.48829116 0.07642372 0.32168869]\n",
            " [0.80185772 0.23765786 0.49953007 0.27293906 0.1149016 ]]\n",
            "sum: 9.5252849028503\n",
            "avg: 0.47626424514251503\n"
          ]
        }
      ]
    },
    {
      "cell_type": "code",
      "source": [
        "#Create a NumPy array with elements from 1 to 20; then reshape it into a 4x5 matrix.\n",
        "array = np.array(range(1,21))\n",
        "array.reshape(4,5)"
      ],
      "metadata": {
        "colab": {
          "base_uri": "https://localhost:8080/"
        },
        "id": "_g0QnrPYSMak",
        "outputId": "42eee237-754e-47f7-b246-6d4186a7e0c4"
      },
      "execution_count": 36,
      "outputs": [
        {
          "output_type": "execute_result",
          "data": {
            "text/plain": [
              "array([[ 1,  2,  3,  4,  5],\n",
              "       [ 6,  7,  8,  9, 10],\n",
              "       [11, 12, 13, 14, 15],\n",
              "       [16, 17, 18, 19, 20]])"
            ]
          },
          "metadata": {},
          "execution_count": 36
        }
      ]
    },
    {
      "cell_type": "code",
      "source": [
        "#Extract all odd numbers from a given NumPy array.\n",
        "odd_array = array[array % 2 != 0]\n",
        "odd_array"
      ],
      "metadata": {
        "colab": {
          "base_uri": "https://localhost:8080/"
        },
        "id": "N-FPzFHKSkIl",
        "outputId": "410ce721-ba2c-4c76-9cb2-eb616ffc1ba5"
      },
      "execution_count": 41,
      "outputs": [
        {
          "output_type": "execute_result",
          "data": {
            "text/plain": [
              "array([ 1,  3,  5,  7,  9, 11, 13, 15, 17, 19])"
            ]
          },
          "metadata": {},
          "execution_count": 41
        }
      ]
    }
  ]
}