{
 "cells": [
  {
   "cell_type": "markdown",
   "id": "24f21777",
   "metadata": {},
   "source": [
    "Exercise 1: Cats\n"
   ]
  },
  {
   "cell_type": "markdown",
   "id": "3447f880",
   "metadata": {},
   "source": [
    "instructions: \n",
    "- Instantiate three Cat objects using the code provided above.\n",
    "- Outside of the class, create a function that finds the oldest cat and returns the cat.\n",
    "- Print the following string: “The oldest cat is <cat_name>, and is <cat_age> years old.”. Use the function previously created.\n"
   ]
  },
  {
   "cell_type": "code",
   "execution_count": 1,
   "id": "b7302830",
   "metadata": {},
   "outputs": [],
   "source": [
    "class Cat:\n",
    "    def __init__(self, cat_name, cat_age):\n",
    "        self.name = cat_name\n",
    "        self.age = cat_age"
   ]
  },
  {
   "cell_type": "code",
   "execution_count": 3,
   "id": "dcdd484b",
   "metadata": {},
   "outputs": [],
   "source": [
    "cat_one = Cat(\"Ron\", 3)\n",
    "cat_two = Cat(\"Lior\", 10)\n",
    "cat_three = Cat(\"Lea\", 25)"
   ]
  },
  {
   "cell_type": "code",
   "execution_count": 15,
   "id": "ac066798",
   "metadata": {},
   "outputs": [],
   "source": [
    "def oldest_cat_identifier(cat_one, cat_two, cat_three):\n",
    "    if cat_one.age > cat_two.age > cat_three.age:\n",
    "        oldest_cat = cat_one\n",
    "    elif cat_two.age > cat_one.age > cat_three.age:\n",
    "        oldest_cat = cat_two\n",
    "    else:\n",
    "         oldest_cat = cat_three\n",
    "    \n",
    "    print(f'The oldest cat is {oldest_cat.name}, and is {oldest_cat.age} years old.')"
   ]
  },
  {
   "cell_type": "code",
   "execution_count": 16,
   "id": "a4e57839",
   "metadata": {},
   "outputs": [
    {
     "name": "stdout",
     "output_type": "stream",
     "text": [
      "The oldest cat is Lea, and is 25 years old.\n"
     ]
    }
   ],
   "source": [
    "oldest_cat_identifier(cat_one, cat_two, cat_three)"
   ]
  },
  {
   "cell_type": "code",
   "execution_count": 17,
   "id": "6fe67ca1",
   "metadata": {},
   "outputs": [],
   "source": [
    "def oldest_cat_identifier(cat_one, cat_two, cat_three):\n",
    "    cat_ages = [cat_one.age, cat_two.age, cat_three.age]\n",
    "    oldest_cat = cat_ages.max()\n",
    "    print(f'The oldest cat is {oldest_cat.name}, and is {oldest_cat.age} years old.')"
   ]
  },
  {
   "cell_type": "code",
   "execution_count": 18,
   "id": "e637726a",
   "metadata": {},
   "outputs": [
    {
     "ename": "AttributeError",
     "evalue": "'list' object has no attribute 'max'",
     "output_type": "error",
     "traceback": [
      "\u001b[0;31m---------------------------------------------------------------------------\u001b[0m",
      "\u001b[0;31mAttributeError\u001b[0m                            Traceback (most recent call last)",
      "\u001b[0;32m<ipython-input-18-058aaf063555>\u001b[0m in \u001b[0;36m<module>\u001b[0;34m\u001b[0m\n\u001b[0;32m----> 1\u001b[0;31m \u001b[0moldest_cat_identifier\u001b[0m\u001b[0;34m(\u001b[0m\u001b[0mcat_one\u001b[0m\u001b[0;34m,\u001b[0m \u001b[0mcat_two\u001b[0m\u001b[0;34m,\u001b[0m \u001b[0mcat_three\u001b[0m\u001b[0;34m)\u001b[0m\u001b[0;34m\u001b[0m\u001b[0;34m\u001b[0m\u001b[0m\n\u001b[0m",
      "\u001b[0;32m<ipython-input-17-9dc238e51da8>\u001b[0m in \u001b[0;36moldest_cat_identifier\u001b[0;34m(cat_one, cat_two, cat_three)\u001b[0m\n\u001b[1;32m      1\u001b[0m \u001b[0;32mdef\u001b[0m \u001b[0moldest_cat_identifier\u001b[0m\u001b[0;34m(\u001b[0m\u001b[0mcat_one\u001b[0m\u001b[0;34m,\u001b[0m \u001b[0mcat_two\u001b[0m\u001b[0;34m,\u001b[0m \u001b[0mcat_three\u001b[0m\u001b[0;34m)\u001b[0m\u001b[0;34m:\u001b[0m\u001b[0;34m\u001b[0m\u001b[0;34m\u001b[0m\u001b[0m\n\u001b[1;32m      2\u001b[0m     \u001b[0mcat_ages\u001b[0m \u001b[0;34m=\u001b[0m \u001b[0;34m[\u001b[0m\u001b[0mcat_one\u001b[0m\u001b[0;34m.\u001b[0m\u001b[0mage\u001b[0m\u001b[0;34m,\u001b[0m \u001b[0mcat_two\u001b[0m\u001b[0;34m.\u001b[0m\u001b[0mage\u001b[0m\u001b[0;34m,\u001b[0m \u001b[0mcat_three\u001b[0m\u001b[0;34m.\u001b[0m\u001b[0mage\u001b[0m\u001b[0;34m]\u001b[0m\u001b[0;34m\u001b[0m\u001b[0;34m\u001b[0m\u001b[0m\n\u001b[0;32m----> 3\u001b[0;31m     \u001b[0moldest_cat\u001b[0m \u001b[0;34m=\u001b[0m \u001b[0mcat_ages\u001b[0m\u001b[0;34m.\u001b[0m\u001b[0mmax\u001b[0m\u001b[0;34m(\u001b[0m\u001b[0;34m)\u001b[0m\u001b[0;34m\u001b[0m\u001b[0;34m\u001b[0m\u001b[0m\n\u001b[0m\u001b[1;32m      4\u001b[0m     \u001b[0mprint\u001b[0m\u001b[0;34m(\u001b[0m\u001b[0;34mf'The oldest cat is {oldest_cat.name}, and is {oldest_cat.age} years old.'\u001b[0m\u001b[0;34m)\u001b[0m\u001b[0;34m\u001b[0m\u001b[0;34m\u001b[0m\u001b[0m\n",
      "\u001b[0;31mAttributeError\u001b[0m: 'list' object has no attribute 'max'"
     ]
    }
   ],
   "source": [
    "oldest_cat_identifier(cat_one, cat_two, cat_three)"
   ]
  },
  {
   "cell_type": "code",
   "execution_count": null,
   "id": "3c626089",
   "metadata": {},
   "outputs": [],
   "source": []
  }
 ],
 "metadata": {
  "kernelspec": {
   "display_name": "Python 3",
   "language": "python",
   "name": "python3"
  },
  "language_info": {
   "codemirror_mode": {
    "name": "ipython",
    "version": 3
   },
   "file_extension": ".py",
   "mimetype": "text/x-python",
   "name": "python",
   "nbconvert_exporter": "python",
   "pygments_lexer": "ipython3",
   "version": "3.8.8"
  }
 },
 "nbformat": 4,
 "nbformat_minor": 5
}
